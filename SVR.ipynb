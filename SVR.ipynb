{
 "cells": [
  {
   "cell_type": "code",
   "execution_count": 1,
   "id": "bd5f7d25",
   "metadata": {},
   "outputs": [],
   "source": [
    "import numpy as np\n",
    "import pandas as pd\n",
    "import matplotlib.pyplot as plt\n",
    "\n",
    "import statsmodels.api as sm\n",
    "from statsmodels.api import OLS\n",
    "\n",
    "from sklearn import preprocessing\n",
    "from sklearn.preprocessing import PolynomialFeatures\n",
    "from sklearn.metrics import r2_score\n",
    "from sklearn.model_selection import train_test_split\n",
    "\n",
    "from pandas.plotting import scatter_matrix\n",
    "\n",
    "import seaborn as sns"
   ]
  },
  {
   "cell_type": "code",
   "execution_count": 2,
   "id": "156c3f65",
   "metadata": {},
   "outputs": [],
   "source": [
    "production='final.xlsx'\n",
    "data = pd.read_excel(production)"
   ]
  },
  {
   "cell_type": "code",
   "execution_count": 3,
   "id": "8d6cc06b",
   "metadata": {},
   "outputs": [],
   "source": [
    "y = np.array(data['Production'])\n",
    "X = data.drop(['Indian State','Production','Year'], axis=1)\n",
    "feature_list=list(X.columns)\n",
    "#X=np.array(X)\n",
    "\n",
    "from sklearn.model_selection import train_test_split\n",
    "X_train, X_test, y_train, y_test = train_test_split(X, y, test_size=0.25, random_state=42)"
   ]
  },
  {
   "cell_type": "code",
   "execution_count": 4,
   "id": "1dad574d",
   "metadata": {},
   "outputs": [],
   "source": [
    "from sklearn.preprocessing import MinMaxScaler\n",
    "\n",
    "sc = MinMaxScaler()\n",
    "X_train = sc.fit_transform(X_train)\n",
    "X_test = sc.transform(X_test)"
   ]
  },
  {
   "cell_type": "code",
   "execution_count": 5,
   "id": "9629866c",
   "metadata": {},
   "outputs": [],
   "source": [
    "from sklearn.svm import SVR\n",
    "svr_rbf = SVR(kernel='rbf', C=20000)\n",
    "svr_lin = SVR(kernel='linear', C=500)\n",
    "svr_poly = SVR(kernel='poly', C=1, degree=10)"
   ]
  },
  {
   "cell_type": "code",
   "execution_count": 6,
   "id": "403a50b5",
   "metadata": {},
   "outputs": [
    {
     "data": {
      "text/plain": [
       "SVR(C=1, degree=10, kernel='poly')"
      ]
     },
     "execution_count": 6,
     "metadata": {},
     "output_type": "execute_result"
    }
   ],
   "source": [
    "svr_rbf.fit(X_train,y_train)\n",
    "svr_lin.fit(X_train,y_train)\n",
    "svr_poly.fit(X_train,y_train)"
   ]
  },
  {
   "cell_type": "code",
   "execution_count": 7,
   "id": "5d58e964",
   "metadata": {},
   "outputs": [],
   "source": [
    "y_rbf = svr_rbf.predict(X_test)\n",
    "y_lin = svr_lin.predict(X_test)\n",
    "y_poly = svr_poly.predict(X_test)"
   ]
  },
  {
   "cell_type": "code",
   "execution_count": 8,
   "id": "b41dd7b4",
   "metadata": {},
   "outputs": [
    {
     "name": "stdout",
     "output_type": "stream",
     "text": [
      "The error is 19.50%.\n"
     ]
    }
   ],
   "source": [
    "m=y_test.mean()\n",
    "y_diff=y_test-y_rbf\n",
    "d=y_diff.mean()\n",
    "err1=d/m*100\n",
    "err1=\"{:.2f}\".format(err1)\n",
    "print('The error is '+str(err1)+'%.')"
   ]
  },
  {
   "cell_type": "code",
   "execution_count": 9,
   "id": "0aa6b288",
   "metadata": {},
   "outputs": [
    {
     "name": "stdout",
     "output_type": "stream",
     "text": [
      "The error is 36.10%.\n"
     ]
    }
   ],
   "source": [
    "m=y_test.mean()\n",
    "y_diff=y_test-y_lin\n",
    "d=y_diff.mean()\n",
    "err2=d/m*100\n",
    "err2=\"{:.2f}\".format(err2)\n",
    "print('The error is '+str(err2)+'%.')"
   ]
  },
  {
   "cell_type": "code",
   "execution_count": 10,
   "id": "fbd18a72",
   "metadata": {},
   "outputs": [
    {
     "name": "stdout",
     "output_type": "stream",
     "text": [
      "The error is 16.19%.\n"
     ]
    }
   ],
   "source": [
    "m=y_test.mean()\n",
    "y_diff=y_test-y_poly\n",
    "d=y_diff.mean()\n",
    "err3=d/m*100\n",
    "err3=\"{:.2f}\".format(err3)\n",
    "print('The error is '+str(err3)+'%.')"
   ]
  },
  {
   "cell_type": "code",
   "execution_count": 11,
   "id": "b4754260",
   "metadata": {},
   "outputs": [
    {
     "data": {
      "text/plain": [
       "Text(0, 0.5, 'Predictions ')"
      ]
     },
     "execution_count": 11,
     "metadata": {},
     "output_type": "execute_result"
    },
    {
     "data": {
      "image/png": "[encoded data removed]",
      "text/plain": [
       "<Figure size 432x288 with 1 Axes>"
      ]
     },
     "metadata": {
      "needs_background": "light"
     },
     "output_type": "display_data"
    }
   ],
   "source": [
    "plt.scatter(y_test, y_rbf)\n",
    "p1 = max(max(y_rbf), max(y_test))\n",
    "p2 = min(min(y_rbf), min(y_test))\n",
    "plt.plot([p1, p2], [p1, p2], 'b-')\n",
    "plt.xlabel('True Values ')\n",
    "plt.ylabel('Predictions ')"
   ]
  },
  {
   "cell_type": "code",
   "execution_count": 12,
   "id": "68ba77df",
   "metadata": {},
   "outputs": [
    {
     "data": {
      "text/plain": [
       "Text(0, 0.5, 'Predictions ')"
      ]
     },
     "execution_count": 12,
     "metadata": {},
     "output_type": "execute_result"
    },
    {
     "data": {
      "image/png": "[encoded data removed]",
      "text/plain": [
       "<Figure size 432x288 with 1 Axes>"
      ]
     },
     "metadata": {
      "needs_background": "light"
     },
     "output_type": "display_data"
    }
   ],
   "source": [
    "plt.scatter(y_test, y_lin)\n",
    "p1 = max(max(y_lin), max(y_test))\n",
    "p2 = min(min(y_lin), min(y_test))\n",
    "plt.plot([p1, p2], [p1, p2], 'b-')\n",
    "plt.xlabel('True Values ')\n",
    "plt.ylabel('Predictions ')"
   ]
  },
  {
   "cell_type": "code",
   "execution_count": 13,
   "id": "05f4c6cd",
   "metadata": {},
   "outputs": [
    {
     "data": {
      "text/plain": [
       "Text(0, 0.5, 'Predictions ')"
      ]
     },
     "execution_count": 13,
     "metadata": {},
     "output_type": "execute_result"
    },
    {
     "data": {
      "image/png": "[encoded data removed]",
      "text/plain": [
       "<Figure size 432x288 with 1 Axes>"
      ]
     },
     "metadata": {
      "needs_background": "light"
     },
     "output_type": "display_data"
    }
   ],
   "source": [
    "plt.scatter(y_test, y_poly)\n",
    "p1 = max(max(y_poly), max(y_test))\n",
    "p2 = min(min(y_poly), min(y_test))\n",
    "plt.plot([p1, p2], [p1, p2], 'b-')\n",
    "plt.xlabel('True Values ')\n",
    "plt.ylabel('Predictions ')"
   ]
  },
  {
   "cell_type": "code",
   "execution_count": 14,
   "id": "d9be1d31",
   "metadata": {},
   "outputs": [],
   "source": [
    "err1=[err1]\n",
    "err2=[err2]\n",
    "err3=[err3]\n",
    "\n",
    "import csv\n",
    "\n",
    "\n",
    "df = pd.read_csv(\"err.csv\")\n",
    "df[\"RBF\"] = err1\n",
    "df.to_csv(\"err.csv\", index=False)\n",
    "    \n",
    "df = pd.read_csv(\"err.csv\")\n",
    "df[\"linear\"] = err2\n",
    "df.to_csv(\"err.csv\", index=False)\n",
    "    \n",
    "df = pd.read_csv(\"err.csv\")\n",
    "df[\"ploy\"] =err3\n",
    "df.to_csv(\"err.csv\", index=False)"
   ]
  },
  {
   "cell_type": "code",
   "execution_count": null,
   "id": "99d1bae9",
   "metadata": {},
   "outputs": [],
   "source": []
  }
 ],
 "metadata": {
  "kernelspec": {
   "display_name": "Python 3 (ipykernel)",
   "language": "python",
   "name": "python3"
  },
  "language_info": {
   "codemirror_mode": {
    "name": "ipython",
    "version": 3
   },
   "file_extension": ".py",
   "mimetype": "text/x-python",
   "name": "python",
   "nbconvert_exporter": "python",
   "pygments_lexer": "ipython3",
   "version": "3.9.7"
  }
 },
 "nbformat": 4,
 "nbformat_minor": 5
}
