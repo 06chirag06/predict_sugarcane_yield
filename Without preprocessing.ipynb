{
 "cells": [
  {
   "cell_type": "code",
   "execution_count": 1,
   "id": "698d08c9",
   "metadata": {},
   "outputs": [],
   "source": [
    "import numpy as np\n",
    "import pandas as pd\n",
    "import matplotlib.pyplot as plt\n",
    "\n",
    "from pandas.plotting import scatter_matrix\n",
    "\n",
    "import seaborn as sns"
   ]
  },
  {
   "cell_type": "code",
   "execution_count": 2,
   "id": "b99a945d",
   "metadata": {},
   "outputs": [
    {
     "data": {
      "text/html": [
       "<div>\n",
       "<style scoped>\n",
       "    .dataframe tbody tr th:only-of-type {\n",
       "        vertical-align: middle;\n",
       "    }\n",
       "\n",
       "    .dataframe tbody tr th {\n",
       "        vertical-align: top;\n",
       "    }\n",
       "\n",
       "    .dataframe thead th {\n",
       "        text-align: right;\n",
       "    }\n",
       "</style>\n",
       "<table border=\"1\" class=\"dataframe\">\n",
       "  <thead>\n",
       "    <tr style=\"text-align: right;\">\n",
       "      <th></th>\n",
       "      <th>Indian State</th>\n",
       "      <th>Year</th>\n",
       "      <th>Production</th>\n",
       "      <th>Rainfall</th>\n",
       "      <th>Temperature</th>\n",
       "    </tr>\n",
       "  </thead>\n",
       "  <tbody>\n",
       "    <tr>\n",
       "      <th>0</th>\n",
       "      <td>Andhra Pradesh</td>\n",
       "      <td>2005</td>\n",
       "      <td>15739.0</td>\n",
       "      <td>2288.00</td>\n",
       "      <td>27.82</td>\n",
       "    </tr>\n",
       "    <tr>\n",
       "      <th>16</th>\n",
       "      <td>Assam</td>\n",
       "      <td>2005</td>\n",
       "      <td>883.9</td>\n",
       "      <td>1234.15</td>\n",
       "      <td>23.60</td>\n",
       "    </tr>\n",
       "    <tr>\n",
       "      <th>32</th>\n",
       "      <td>Bihar</td>\n",
       "      <td>2005</td>\n",
       "      <td>4111.7</td>\n",
       "      <td>907.80</td>\n",
       "      <td>25.82</td>\n",
       "    </tr>\n",
       "    <tr>\n",
       "      <th>48</th>\n",
       "      <td>Gujarat</td>\n",
       "      <td>2005</td>\n",
       "      <td>14570.0</td>\n",
       "      <td>1948.00</td>\n",
       "      <td>26.85</td>\n",
       "    </tr>\n",
       "    <tr>\n",
       "      <th>64</th>\n",
       "      <td>Haryana</td>\n",
       "      <td>2005</td>\n",
       "      <td>8060.0</td>\n",
       "      <td>519.50</td>\n",
       "      <td>24.80</td>\n",
       "    </tr>\n",
       "    <tr>\n",
       "      <th>...</th>\n",
       "      <td>...</td>\n",
       "      <td>...</td>\n",
       "      <td>...</td>\n",
       "      <td>...</td>\n",
       "      <td>...</td>\n",
       "    </tr>\n",
       "    <tr>\n",
       "      <th>255</th>\n",
       "      <td>Tamil Nadu</td>\n",
       "      <td>2020</td>\n",
       "      <td>14119.1</td>\n",
       "      <td>988.40</td>\n",
       "      <td>28.07</td>\n",
       "    </tr>\n",
       "    <tr>\n",
       "      <th>271</th>\n",
       "      <td>Telangana</td>\n",
       "      <td>2020</td>\n",
       "      <td>2012.9</td>\n",
       "      <td>1350.30</td>\n",
       "      <td>21.17</td>\n",
       "    </tr>\n",
       "    <tr>\n",
       "      <th>287</th>\n",
       "      <td>Uttar Pradesh</td>\n",
       "      <td>2020</td>\n",
       "      <td>179539.1</td>\n",
       "      <td>1421.60</td>\n",
       "      <td>25.62</td>\n",
       "    </tr>\n",
       "    <tr>\n",
       "      <th>303</th>\n",
       "      <td>Uttarakhand</td>\n",
       "      <td>2020</td>\n",
       "      <td>6937.7</td>\n",
       "      <td>1373.00</td>\n",
       "      <td>14.14</td>\n",
       "    </tr>\n",
       "    <tr>\n",
       "      <th>319</th>\n",
       "      <td>West Bengal</td>\n",
       "      <td>2020</td>\n",
       "      <td>1527.6</td>\n",
       "      <td>1554.10</td>\n",
       "      <td>25.51</td>\n",
       "    </tr>\n",
       "  </tbody>\n",
       "</table>\n",
       "<p>320 rows × 5 columns</p>\n",
       "</div>"
      ],
      "text/plain": [
       "       Indian State  Year  Production  Rainfall  Temperature\n",
       "0    Andhra Pradesh  2005     15739.0   2288.00        27.82\n",
       "16            Assam  2005       883.9   1234.15        23.60\n",
       "32            Bihar  2005      4111.7    907.80        25.82\n",
       "48          Gujarat  2005     14570.0   1948.00        26.85\n",
       "64          Haryana  2005      8060.0    519.50        24.80\n",
       "..              ...   ...         ...       ...          ...\n",
       "255      Tamil Nadu  2020     14119.1    988.40        28.07\n",
       "271       Telangana  2020      2012.9   1350.30        21.17\n",
       "287   Uttar Pradesh  2020    179539.1   1421.60        25.62\n",
       "303     Uttarakhand  2020      6937.7   1373.00        14.14\n",
       "319     West Bengal  2020      1527.6   1554.10        25.51\n",
       "\n",
       "[320 rows x 5 columns]"
      ]
     },
     "execution_count": 2,
     "metadata": {},
     "output_type": "execute_result"
    }
   ],
   "source": [
    "production='Sugarcane_final.xlsx'\n",
    "data = pd.read_excel(production)\n",
    "data=data.sort_values(by=['Year','Indian State'])\n",
    "data"
   ]
  },
  {
   "cell_type": "code",
   "execution_count": 3,
   "id": "8c675f67",
   "metadata": {},
   "outputs": [],
   "source": [
    "import statsmodels.api as sm\n",
    "from statsmodels.api import OLS\n",
    "\n",
    "from sklearn import preprocessing\n",
    "from sklearn.preprocessing import PolynomialFeatures\n",
    "from sklearn.metrics import r2_score\n",
    "from sklearn.model_selection import train_test_split\n",
    "\n",
    "from pandas.plotting import scatter_matrix"
   ]
  },
  {
   "cell_type": "code",
   "execution_count": 4,
   "id": "ae22e8f8",
   "metadata": {},
   "outputs": [],
   "source": [
    "y = np.array(data['Production'])\n",
    "X = data.drop(['Indian State','Production','Year'], axis=1)\n",
    "#feature_list=list(X.columns)\n",
    "X=np.array(X)\n",
    "\n",
    "from sklearn.model_selection import train_test_split\n",
    "X_train, X_test, y_train, y_test = train_test_split(X, y, test_size=0.2, random_state=42)"
   ]
  },
  {
   "cell_type": "code",
   "execution_count": 5,
   "id": "f626c508",
   "metadata": {},
   "outputs": [
    {
     "data": {
      "text/plain": [
       "(64, 2)"
      ]
     },
     "execution_count": 5,
     "metadata": {},
     "output_type": "execute_result"
    }
   ],
   "source": [
    "X_test.shape"
   ]
  },
  {
   "cell_type": "code",
   "execution_count": 6,
   "id": "5b97f9c7",
   "metadata": {},
   "outputs": [
    {
     "data": {
      "text/plain": [
       "(256,)"
      ]
     },
     "execution_count": 6,
     "metadata": {},
     "output_type": "execute_result"
    }
   ],
   "source": [
    "y_train.shape"
   ]
  },
  {
   "cell_type": "code",
   "execution_count": 7,
   "id": "8abc9e42",
   "metadata": {},
   "outputs": [],
   "source": [
    "from sklearn.preprocessing import MinMaxScaler\n",
    "\n",
    "sc = MinMaxScaler()\n",
    "X_train = sc.fit_transform(X_train)\n",
    "X_test = sc.transform(X_test)"
   ]
  },
  {
   "cell_type": "code",
   "execution_count": 8,
   "id": "4820c517",
   "metadata": {},
   "outputs": [],
   "source": [
    "from sklearn import linear_model\n",
    "\n",
    "regr = linear_model.LinearRegression()\n",
    "regr.fit(X_train, y_train)\n",
    "y_pred = regr.predict(X_test)"
   ]
  },
  {
   "cell_type": "code",
   "execution_count": 9,
   "id": "2337a5a4",
   "metadata": {
    "scrolled": true
   },
   "outputs": [
    {
     "name": "stdout",
     "output_type": "stream",
     "text": [
      "The error is 29.68%.\n"
     ]
    }
   ],
   "source": [
    "m=y_test.mean()\n",
    "y_diff=y_test-y_pred\n",
    "d=y_diff.mean()\n",
    "err=d/m*100\n",
    "err=\"{:.2f}\".format(err)\n",
    "print('The error is '+str(err)+'%.')"
   ]
  },
  {
   "cell_type": "code",
   "execution_count": 10,
   "id": "4005315e",
   "metadata": {},
   "outputs": [
    {
     "data": {
      "text/plain": [
       "Text(0, 0.5, 'Predictions ')"
      ]
     },
     "execution_count": 10,
     "metadata": {},
     "output_type": "execute_result"
    },
    {
     "data": {
      "image/png": "[encoded data removed]",
      "text/plain": [
       "<Figure size 432x288 with 1 Axes>"
      ]
     },
     "metadata": {
      "needs_background": "light"
     },
     "output_type": "display_data"
    }
   ],
   "source": [
    "plt.scatter(y_test, y_pred)\n",
    "p1 = max(max(y_pred), max(y_test))\n",
    "p2 = min(min(y_pred), min(y_test))\n",
    "plt.plot([p1, p2], [p1, p2], 'b-')\n",
    "plt.xlabel('True Values ')\n",
    "plt.ylabel('Predictions ')"
   ]
  },
  {
   "cell_type": "code",
   "execution_count": null,
   "id": "6f6af67f",
   "metadata": {},
   "outputs": [],
   "source": []
  }
 ],
 "metadata": {
  "kernelspec": {
   "display_name": "Python 3 (ipykernel)",
   "language": "python",
   "name": "python3"
  },
  "language_info": {
   "codemirror_mode": {
    "name": "ipython",
    "version": 3
   },
   "file_extension": ".py",
   "mimetype": "text/x-python",
   "name": "python",
   "nbconvert_exporter": "python",
   "pygments_lexer": "ipython3",
   "version": "3.9.7"
  }
 },
 "nbformat": 4,
 "nbformat_minor": 5
}
